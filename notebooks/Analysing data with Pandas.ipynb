{
 "cells": [
  {
   "cell_type": "markdown",
   "metadata": {},
   "source": [
    "## Pandas 1.0 Features\n",
    "\n",
    "Pandas 1.0 version has some great new features that every data lover should know. Also, this latest version has __*dropped support for Python 2.7*__ and requires 3.6.1 & above, 3.7, and 3.8. This release has also removed a lot of functionality which was deprecated in previous releases.\n",
    "\n",
    "Let's see what's new and how it can help us. <br>\n",
    "\n",
    "__Note:__ As per the documentation (2) and (3) are still considered experimental and their behaviors may change."
   ]
  },
  {
   "cell_type": "markdown",
   "metadata": {},
   "source": [
    "### (1) __Converting to Markdown using *to_markdown()*__ \n",
    "\n",
    "To use to_markdown() you need to install tabulate in your system. \n",
    "      \n",
    "To install you can use pip command __$pip install tabulate__    "
   ]
  },
  {
   "cell_type": "code",
   "execution_count": 8,
   "metadata": {},
   "outputs": [
    {
     "name": "stdout",
     "output_type": "stream",
     "text": [
      "\n",
      "---------- using head() -----------\n",
      "\n",
      "    Name  Age  Weight\n",
      "0   John   10    29.5\n",
      "1    Jim   12    30.0\n",
      "2  Jacob   11    32.8 \n",
      "\n",
      "\n",
      "---------- using to_markdown() -----------\n",
      "\n",
      "|    | Name   |   Age |   Weight |\n",
      "|---:|:-------|------:|---------:|\n",
      "|  0 | John   |    10 |     29.5 |\n",
      "|  1 | Jim    |    12 |     30   |\n",
      "|  2 | Jacob  |    11 |     32.8 |\n"
     ]
    }
   ],
   "source": [
    "import pandas as pd\n",
    "df = pd.DataFrame({\n",
    "                    'Name' : ['John', 'Jim', 'Jacob'],\n",
    "                    'Age' : [10, 12, 11],\n",
    "                    'Weight' : [29.5, 30, 32.8]\n",
    "})\n",
    "\n",
    "print('\\n---------- using head() -----------\\n')\n",
    "print(df.head(),'\\n')\n",
    "\n",
    "print('\\n---------- using to_markdown() -----------\\n')\n",
    "print(df.to_markdown())"
   ]
  },
  {
   "cell_type": "markdown",
   "metadata": {},
   "source": [
    "### (2) __Dedicated String Datatype__\n",
    "\n",
    "Previously strings were stored in object-dtype Numpy arrays. The new release has added a StringDtype, an extension type dedicated to string data. You can use this datatype as pd.StringDtype() or use the alias \"string\". The string accessor methods like upper(), lower(), split(), count() etc work on string datatype. The accessor methods returning integers will return value with Int64Dtype. \n",
    "      \n",
    "This new feature comes handy, \n",
    "  - to store text-only data in a column along with other categorical data. The same datatype for both categorical and string values will not bother us anymore.\n",
    "  - to select the text-only columns using select_dtypes()"
   ]
  },
  {
   "cell_type": "code",
   "execution_count": 2,
   "metadata": {},
   "outputs": [
    {
     "name": "stdout",
     "output_type": "stream",
     "text": [
      "\n",
      "-------- Strings -------\n",
      "0    John\n",
      "1     Jim\n",
      "2    Jill\n",
      "dtype: string\n"
     ]
    }
   ],
   "source": [
    "s = pd.Series(['John', 'Jim', 'Jill'], dtype=\"string\")\n",
    "print('\\n-------- Strings -------')\n",
    "print(s)"
   ]
  },
  {
   "cell_type": "code",
   "execution_count": 3,
   "metadata": {},
   "outputs": [
    {
     "name": "stdout",
     "output_type": "stream",
     "text": [
      "   Label                                              Tweet\n",
      "0      0             could go for some ASU right about now \n",
      "1      0  Could have been home right now if I would have...\n",
      "2      0                         could have been there now \n",
      "3      0  could have done with more sleep, i think im co...\n",
      "4      0  Could have eaten another pizza. Did the right ...\n",
      "\n",
      "\n",
      "Label     int64\n",
      "Tweet    object\n",
      "dtype: object\n",
      "                                                Tweet\n",
      "0              could go for some ASU right about now \n",
      "1   Could have been home right now if I would have...\n",
      "2                          could have been there now \n",
      "3   could have done with more sleep, i think im co...\n",
      "4   Could have eaten another pizza. Did the right ...\n",
      "5   could have used a knight in shining armor last...\n",
      "6   Could i be any happier. Hmmm well maybe just o...\n",
      "7   Could i just quickly establish that i love @am...\n",
      "8   Could imagine if starbucks was actually puttin...\n",
      "9   Could it be? I think I'm finally getting the T...\n",
      "10  Could it get any nicer in Salt Lake today?  Wi...\n",
      "11  Could it truly be butterflies? I feel like I a...\n",
      "12  could kill Twitter!!  sent me a text at 3:30 i...\n",
      "13  could murder an ice cream soda but no ice crea...\n",
      "14  Could not buy the dress I wanted to, because t...\n",
      "15            Could not get Iphone 3G S till Auguest \n"
     ]
    }
   ],
   "source": [
    "df = pd.read_csv('sample.csv')\n",
    "\n",
    "print(df.head())\n",
    "\n",
    "print('\\n')\n",
    "print(df.dtypes)\n",
    "\n",
    "df['Tweet'] = df['Tweet'].astype(\"string\")\n",
    "df.dtypes\n",
    "\n",
    "print(df.select_dtypes(\"string\"))"
   ]
  },
  {
   "cell_type": "markdown",
   "metadata": {},
   "source": [
    "### (3) __NA scalar to denote missing values__\n",
    "    \n",
    "A singleton value is introduced to represent scalar missing values, i.e.__pd.NA__\n",
    "Earlier pandas used, \n",
    " - np.nan for float data\n",
    " - np.nan or None for object-dtype data\n",
    " - pd.NaT for datetime-like data. \n",
    " \n",
    " __pd.NA__ aims to provide the \"missing\" indicator which can be used consistently across datatype, and currently used by the nullable integer, boolean and new string datatypes."
   ]
  },
  {
   "cell_type": "code",
   "execution_count": 4,
   "metadata": {},
   "outputs": [
    {
     "name": "stdout",
     "output_type": "stream",
     "text": [
      "\n",
      "-------- Integer -------\n",
      "0       1\n",
      "1       2\n",
      "2    <NA>\n",
      "dtype: Int64\n",
      "\n",
      "-------- String -------\n",
      "0     Jim\n",
      "1    <NA>\n",
      "2    Jack\n",
      "dtype: string\n"
     ]
    }
   ],
   "source": [
    "s = pd.Series([1, 2, None], dtype=\"Int64\")\n",
    "print('\\n-------- Integer -------')\n",
    "print(s)\n",
    "\n",
    "s = pd.Series([\"Jim\", None, \"Jack\"], dtype=\"string\")\n",
    "print('\\n-------- String -------')\n",
    "print(s)"
   ]
  },
  {
   "cell_type": "markdown",
   "metadata": {},
   "source": [
    "### (4) __Boolean data type with missing values support__\n",
    "\n",
    "The default bool datatype can only hold True or False in the column and not missing values. The new BooleanArray can store missing values as well. You can use this datatype as pd.BooleanDtype() or use the alias \"boolean\".\n"
   ]
  },
  {
   "cell_type": "code",
   "execution_count": 5,
   "metadata": {},
   "outputs": [
    {
     "name": "stdout",
     "output_type": "stream",
     "text": [
      "\n",
      "-------- bool -------\n",
      "0     True\n",
      "1    False\n",
      "2    False\n",
      "3    False\n",
      "4    False\n",
      "dtype: bool\n",
      "\n",
      "-------- Boolean -------\n",
      "0     True\n",
      "1     <NA>\n",
      "2    False\n",
      "3     <NA>\n",
      "4    False\n",
      "dtype: boolean\n"
     ]
    }
   ],
   "source": [
    "s = pd.Series([True, None, False, None, False], dtype=\"bool\")\n",
    "print('\\n-------- bool -------')\n",
    "print(s)\n",
    "\n",
    "s = pd.Series([True, None, False, None, False], dtype=\"boolean\")\n",
    "print('\\n-------- Boolean -------')\n",
    "print(s)"
   ]
  },
  {
   "cell_type": "markdown",
   "metadata": {},
   "source": [
    "### (5) __convert_dtypes method to ease use of supported extension dtypes__ \n",
    "\n",
    "The new methods DataFrame.convert_dtypes() and Series.convert_dtypes() have been added to encourage the use of extenstion datatypes that support pd.NA.\n"
   ]
  },
  {
   "cell_type": "code",
   "execution_count": 6,
   "metadata": {},
   "outputs": [
    {
     "name": "stdout",
     "output_type": "stream",
     "text": [
      "------ datatypes ------\n",
      "Name       object\n",
      "Age         int64\n",
      "is_tall      bool\n",
      "dtype: object\n",
      "\n",
      "------ datatypes converted ------\n",
      "Name        string\n",
      "Age          Int64\n",
      "is_tall    boolean\n",
      "dtype: object\n"
     ]
    }
   ],
   "source": [
    "import numpy as np\n",
    "df = pd.DataFrame({\n",
    "                    'Name' : ['John', 'Jill', 'Jacob'],\n",
    "                    'Age' : [10, 12, 14],\n",
    "                    'is_tall' : [True, True, False]\n",
    "})\n",
    "\n",
    "print('------ datatypes ------')\n",
    "print(df.dtypes)\n",
    "\n",
    "conv = df.convert_dtypes()\n",
    "\n",
    "print('\\n------ datatypes converted ------')\n",
    "print(conv.dtypes)\n"
   ]
  },
  {
   "cell_type": "markdown",
   "metadata": {},
   "source": [
    "### (6) __Improved DataFrame.info()__\n",
    "\n",
    "Now that gives us the summary of the Dataframe which is more simpler to read and makes the data exploration process easier.\n",
    "      "
   ]
  },
  {
   "cell_type": "code",
   "execution_count": 7,
   "metadata": {},
   "outputs": [
    {
     "name": "stdout",
     "output_type": "stream",
     "text": [
      "<class 'pandas.core.frame.DataFrame'>\n",
      "RangeIndex: 16 entries, 0 to 15\n",
      "Data columns (total 2 columns):\n",
      " #   Column  Non-Null Count  Dtype \n",
      "---  ------  --------------  ----- \n",
      " 0   Label   16 non-null     int64 \n",
      " 1   Tweet   16 non-null     object\n",
      "dtypes: int64(1), object(1)\n",
      "memory usage: 384.0+ bytes\n"
     ]
    }
   ],
   "source": [
    "df = pd.read_csv('sample.csv')\n",
    "\n",
    "df.info()"
   ]
  }
 ],
 "metadata": {
  "kernelspec": {
   "display_name": "Python 3",
   "language": "python",
   "name": "python3"
  },
  "language_info": {
   "codemirror_mode": {
    "name": "ipython",
    "version": 3
   },
   "file_extension": ".py",
   "mimetype": "text/x-python",
   "name": "python",
   "nbconvert_exporter": "python",
   "pygments_lexer": "ipython3",
   "version": "3.8.0"
  }
 },
 "nbformat": 4,
 "nbformat_minor": 4
}
