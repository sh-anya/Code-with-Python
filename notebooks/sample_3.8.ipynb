{
 "cells": [
  {
   "cell_type": "markdown",
   "metadata": {},
   "source": [
    "## Using the Walrus operator\n",
    "\n",
    "This operator is used to assign values to variables as a part of larger expression. Formal name of this syntax as per PEP is __Assignment Expressions__, aka Named Expressions.\n",
    "\n",
    "Syntax:      __variable_name := expression__\n",
    "\n",
    "Examples: \n",
    "- match := re.findall(some_pattern) in an IF statement.\n",
    "- n := len(list_x) in a while loop."
   ]
  },
  {
   "cell_type": "code",
   "execution_count": 2,
   "metadata": {},
   "outputs": [
    {
     "name": "stdout",
     "output_type": "stream",
     "text": [
      "['M', 'A']\n"
     ]
    }
   ],
   "source": [
    "#without using Walrus operator.\n",
    "#Printing all the upper case letters in a string.\n",
    "import re\n",
    "\n",
    "cap_letters = re.findall(r'[A-Z]', 'My name is Ananya.')\n",
    "if cap_letters != []:\n",
    "    print(cap_letters)\n",
    "else:\n",
    "    print(\"no capital letters found\")"
   ]
  },
  {
   "cell_type": "code",
   "execution_count": 3,
   "metadata": {},
   "outputs": [
    {
     "name": "stdout",
     "output_type": "stream",
     "text": [
      "['M', 'A']\n"
     ]
    }
   ],
   "source": [
    "#using Walrus operator.\n",
    "#Printing all the upper case letters in a string.\n",
    "import re\n",
    "\n",
    "if(cap_letters := re.findall(r'[A-Z]', 'My name is Ananya.')) != []:\n",
    "    print(cap_letters)\n",
    "else:\n",
    "    print(\"no capital letters found\")"
   ]
  },
  {
   "cell_type": "markdown",
   "metadata": {},
   "source": [
    "## Positional-only Arguments\n",
    "\n",
    "The positional-only arguments are added to function definition using a __/__\n",
    "\n",
    "Syntax:     __function_name(arg1, arg2, arg3, / , arg4)__\n",
    "\n",
    "In above mentioned syntax indicates that arg1, arg2 and arg3 (i.e all the arguments to the left of /) can be passed positionally. The arg4 can be passed either as positional or keyword.\n",
    "\n",
    "Note: If any one of the positional-only parameter is set to a default value, then the following arguments should have a default value as well. \n",
    "\n",
    "If you use __*__ in the function definition that marks the beginning of key word only argument. \n",
    "\n",
    "So, the generic syntax is as follows: __function_name(arg1, arg2, /, arg3, *, arg4, arg5, arg6)__ indicating, <br>         \n",
    "- __arg1__ and __arg2__ are positional-only arguments <br>\n",
    "- __arg3__ is positional or keyword <br>\n",
    "- __arg4__, __arg5__ and __arg6__ are keyword arguments <br>"
   ]
  },
  {
   "cell_type": "code",
   "execution_count": 11,
   "metadata": {},
   "outputs": [
    {
     "name": "stdout",
     "output_type": "stream",
     "text": [
      "268\n",
      "353\n"
     ]
    }
   ],
   "source": [
    "def total_score(sub1, sub2, sub3, /, sub4, sub5, sub6=None):\n",
    "    if(sub6 == None):\n",
    "        return sub1 + sub2 + sub3 + sub4 + sub5\n",
    "    else:\n",
    "        return sub1 + sub2 + sub3 + sub4 + sub5 + sub6\n",
    "    \n",
    "print(total_score(56, 67, 85, sub5=20, sub4=40)) #Valid\n",
    "print(total_score(97, 67, 89, sub6=30, sub5=30, sub4=40)) #Valid"
   ]
  },
  {
   "cell_type": "code",
   "execution_count": 13,
   "metadata": {},
   "outputs": [
    {
     "ename": "SyntaxError",
     "evalue": "positional argument follows keyword argument (<ipython-input-13-6584856e6201>, line 2)",
     "output_type": "error",
     "traceback": [
      "\u001b[0;36m  File \u001b[0;32m\"<ipython-input-13-6584856e6201>\"\u001b[0;36m, line \u001b[0;32m2\u001b[0m\n\u001b[0;31m    print(total_score(sub4=40, sub5=30, sub6=35, 50, 60, 54))\u001b[0m\n\u001b[0m                                                 ^\u001b[0m\n\u001b[0;31mSyntaxError\u001b[0m\u001b[0;31m:\u001b[0m positional argument follows keyword argument\n"
     ]
    }
   ],
   "source": [
    "#Invalid and will raise an error\n",
    "print(total_score(sub4=40, sub5=30, sub6=35, 50, 60, 54))"
   ]
  },
  {
   "cell_type": "code",
   "execution_count": 16,
   "metadata": {},
   "outputs": [
    {
     "ename": "SyntaxError",
     "evalue": "positional argument follows keyword argument (<ipython-input-16-40dd469c6bcb>, line 2)",
     "output_type": "error",
     "traceback": [
      "\u001b[0;36m  File \u001b[0;32m\"<ipython-input-16-40dd469c6bcb>\"\u001b[0;36m, line \u001b[0;32m2\u001b[0m\n\u001b[0;31m    print(total_score(sub4=40, 40, 50, 60, sub5=30, sub6=35))\u001b[0m\n\u001b[0m                               ^\u001b[0m\n\u001b[0;31mSyntaxError\u001b[0m\u001b[0;31m:\u001b[0m positional argument follows keyword argument\n"
     ]
    }
   ],
   "source": [
    "#Invalid and will raise an error\n",
    "print(total_score(sub4=40, 40, 50, 60, sub5=30, sub6=35))"
   ]
  },
  {
   "cell_type": "code",
   "execution_count": 14,
   "metadata": {},
   "outputs": [
    {
     "ename": "SyntaxError",
     "evalue": "non-default argument follows default argument (<ipython-input-14-e0a5e39f4bc1>, line 2)",
     "output_type": "error",
     "traceback": [
      "\u001b[0;36m  File \u001b[0;32m\"<ipython-input-14-e0a5e39f4bc1>\"\u001b[0;36m, line \u001b[0;32m2\u001b[0m\n\u001b[0;31m    def total_score(sub1, sub2, sub3=45, /, sub4, sub5, sub6=None):\u001b[0m\n\u001b[0m                    ^\u001b[0m\n\u001b[0;31mSyntaxError\u001b[0m\u001b[0;31m:\u001b[0m non-default argument follows default argument\n"
     ]
    }
   ],
   "source": [
    "#Modify the same function using default values to the arguments\n",
    "#This is invalid function definition and will raise an error.\n",
    "def total_score(sub1, sub2, sub3=45, /, sub4, sub5, sub6=None):\n",
    "    if(sub6 == None):\n",
    "        return sub1 + sub2 + sub3 + sub4 + sub5\n",
    "    else:\n",
    "        return sub1 + sub2 + sub3 + sub4 + sub5 + sub6"
   ]
  },
  {
   "cell_type": "code",
   "execution_count": 18,
   "metadata": {},
   "outputs": [
    {
     "name": "stdout",
     "output_type": "stream",
     "text": [
      "Changed parameter's default value :  268\n",
      "No changes parameter's default value :  259\n"
     ]
    }
   ],
   "source": [
    "#This is valid function definition and will not raise any error.\n",
    "def total_score(sub1, sub2, sub3=45, /, sub4=35, sub5=56, sub6=None):\n",
    "    if(sub6 == None):\n",
    "        return sub1 + sub2 + sub3 + sub4 + sub5\n",
    "    else:\n",
    "        return sub1 + sub2 + sub3 + sub4 + sub5 + sub6\n",
    "    \n",
    "print('Changed parameter\\'s default value : ', total_score(56, 67, 85, sub5=20, sub4=40)) #Valid\n",
    "print('No changes parameter\\'s default value : ', total_score(56, 67)) #valid"
   ]
  }
 ],
 "metadata": {
  "kernelspec": {
   "display_name": "Python 3",
   "language": "python",
   "name": "python3"
  },
  "language_info": {
   "codemirror_mode": {
    "name": "ipython",
    "version": 3
   },
   "file_extension": ".py",
   "mimetype": "text/x-python",
   "name": "python",
   "nbconvert_exporter": "python",
   "pygments_lexer": "ipython3",
   "version": "3.8.0"
  }
 },
 "nbformat": 4,
 "nbformat_minor": 4
}
